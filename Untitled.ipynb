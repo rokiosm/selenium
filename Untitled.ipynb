{
 "cells": [
  {
   "cell_type": "markdown",
   "metadata": {},
   "source": [
    "## 1.셀레늄 코딩(숙제3번)\n",
    "## =============\n",
    "from selenium import webdriver\n",
    "from bs4 import BeautifulSoup\n",
    "from datetime import datetime\n",
    "import threading\n",
    "\n",
    "end = False\n",
    "\n",
    "driver = webdriver.Chrome('/Users/nusys/Downloads/chromedriver_mac64/chromedriver')\n",
    "driver.implicitly_wait(3)\n",
    "driver.get('https://datalab.naver.com/keyword/realtimeList.naver?where=main')\n",
    "html = driver.page_source\n",
    "soup = BeautifulSoup(html, 'html.parser')\n",
    "\n",
    "def crawling(second = 1.0):\n",
    "    global end\n",
    "    if end:\n",
    "        return\n",
    "    f = open('네이버검색어순위.md', 'a')\n",
    "    f.write(datetime.today().strftime('\\n'+\"______________\"+'\\n'+\"%Y/%m/%d %H:%M:%S\")+'\\n')\n",
    "    i = 1\n",
    "    for anchor in soup.select(\"span.item_title\"):\n",
    "        data = str(i) + \"위: \"+ anchor.get_text() + '\\n'\n",
    "        f.write(data)\n",
    "        i += 1\n",
    "    f.close()\n",
    "    threading.Timer(second, crawling, [second]).start()\n",
    "\n",
    "crawling(900)"
   ]
  },
  {
   "cell_type": "markdown",
   "metadata": {},
   "source": [
    "#  2. 구글 크롤링2"
   ]
  },
  {
   "cell_type": "code",
   "execution_count": 10,
   "metadata": {},
   "outputs": [
    {
     "ename": "NameError",
     "evalue": "name 'target' is not defined",
     "output_type": "error",
     "traceback": [
      "\u001b[0;31m---------------------------------------------------------------------------\u001b[0m",
      "\u001b[0;31mNameError\u001b[0m                                 Traceback (most recent call last)",
      "\u001b[0;32m<ipython-input-10-8d878a53ad86>\u001b[0m in \u001b[0;36m<module>\u001b[0;34m\u001b[0m\n\u001b[1;32m      6\u001b[0m \u001b[0;34m\u001b[0m\u001b[0m\n\u001b[1;32m      7\u001b[0m values = { \n\u001b[0;32m----> 8\u001b[0;31m     \u001b[0;34m'q'\u001b[0m\u001b[0;34m:\u001b[0m \u001b[0mtarget\u001b[0m\u001b[0;34m,\u001b[0m\u001b[0;34m\u001b[0m\u001b[0;34m\u001b[0m\u001b[0m\n\u001b[0m\u001b[1;32m      9\u001b[0m     \u001b[0;34m'oq'\u001b[0m\u001b[0;34m:\u001b[0m \u001b[0mtarget\u001b[0m\u001b[0;34m,\u001b[0m\u001b[0;34m\u001b[0m\u001b[0;34m\u001b[0m\u001b[0m\n\u001b[1;32m     10\u001b[0m     \u001b[0;34m'aqs'\u001b[0m\u001b[0;34m:\u001b[0m \u001b[0;34m'chrome..69i57.35694j0j7'\u001b[0m\u001b[0;34m,\u001b[0m\u001b[0;34m\u001b[0m\u001b[0;34m\u001b[0m\u001b[0m\n",
      "\u001b[0;31mNameError\u001b[0m: name 'target' is not defined"
     ]
    }
   ],
   "source": [
    "from bs4 import BeautifulSoup as BS\n",
    "import ssl, urllib \n",
    "import traceback\n",
    "\n",
    "base_url = 'https://www.google.co.kr'\n",
    "\n",
    "values = { \n",
    "    'q': target, \n",
    "    'oq': target, \n",
    "    'aqs': 'chrome..69i57.35694j0j7',\n",
    "    'sourceid': 'chrome', 'ie': 'UTF-8', } \n",
    "\n",
    "hdr = {'User-Agent': 'Mozilla/5.0'}\n",
    "\n",
    "query_string = urllib.parse.urlencode(values)\n",
    "req = urllib.request.Request(base_url + '?' + query_string, headers=hdr)\n",
    "\n",
    "context = ssl._create_unverified_context() \n",
    "try: \n",
    "    res = urllib.request.urlopen(req, context=context)\n",
    "except: \n",
    "    traceback.print_exc() \n",
    "    \n",
    "html_data = BS(res.read(), 'html.parser')"
   ]
  },
  {
   "cell_type": "markdown",
   "metadata": {},
   "source": [
    "# 제목 1 마크다운 \n",
    "## 제목 2\n",
    "### 제목 3\n",
    "#### 제목 4\n",
    "##### 제목 5\n",
    "###### 제목 6"
   ]
  },
  {
   "cell_type": "markdown",
   "metadata": {},
   "source": [
    "제목 1\n",
    "======\n",
    "\n",
    "제목 2\n",
    "------"
   ]
  },
  {
   "cell_type": "markdown",
   "metadata": {},
   "source": [
    "[GOOGLE](https://google.com)\n",
    "\n",
    "[NAVER](https://naver.com \"링크 설명(title)을 작성하세요.\")\n",
    "\n",
    "[Dribbble][Dribbble link]\n",
    "\n",
    "[GitHub][1]\n"
   ]
  },
  {
   "cell_type": "markdown",
   "metadata": {},
   "source": [
    "---\n",
    "(Hyphens)\n",
    "\n",
    "***\n",
    "(Asterisks)\n",
    "\n",
    "___\n",
    "(Underscores)"
   ]
  },
  {
   "cell_type": "markdown",
   "metadata": {},
   "source": [
    "\n",
    "```html\n",
    "<a href=\"https://www.google.co.kr/\" target=\"_blank\">GOOGLE</a>\n",
    "```\n",
    "\n",
    "```css\n",
    ".list > li {\n",
    "  position: absolute;\n",
    "  top: 40px;\n",
    "}\n",
    "```\n",
    "\n",
    "```javascript\n",
    "function func() {\n",
    "  var a = 'AAA';\n",
    "  return a;\n",
    "}\n",
    "```\n",
    "\n",
    "```bash\n",
    "$ vim ./~zshrc\n",
    "```\n",
    "\n",
    "```python\n",
    "s = \"Python syntax highlighting\"\n",
    "print s\n",
    "```\n",
    "\n",
    "```\n",
    "No language indicated, so no syntax highlighting. \n",
    "But let's throw in a tag.\n",
    "```"
   ]
  },
  {
   "cell_type": "markdown",
   "metadata": {},
   "source": [
    "| 값 | 의미 | 기본값 |\n",
    "|---|:---:|---:|\n",
    "| `static` | 유형(기준) 없음 / 배치 불가능 | `static` |\n",
    "| `relative` | 요소 자신을 기준으로 배치 |  |\n",
    "| `absolute` | 위치 상 부모(조상)요소를 기준으로 배치 |  |\n",
    "| `fixed` | 브라우저 창을 기준으로 배치 |  |\n",
    "\n",
    "값 | 의미 | 기본값\n",
    "---|:---:|---:\n",
    "`static` | 유형(기준) 없음 / 배치 불가능 | `static`\n",
    "`relative` | 요소 자신을 기준으로 배치 |\n",
    "`absolute` | 위치 상 부모 (조상)요소를 기준으로 배치 |\n",
    "`fixed` | 브라우저 창을 기준으로 배치 |"
   ]
  },
  {
   "cell_type": "markdown",
   "metadata": {},
   "source": [
    "<u>마크다운에서 지원하지 않는 기능\n",
    "<img width=\"150\" src=\"http://www.gstatic.com/webp/gallery/4.jpg\" alt=\"Prunus\" title=\"A Wild Cherry (Prunus avium) in flower\">\n",
    "\n",
    "![Prunus](http://www.gstatic.com/webp/gallery/4.jpg)"
   ]
  },
  {
   "cell_type": "code",
   "execution_count": null,
   "metadata": {},
   "outputs": [],
   "source": []
  }
 ],
 "metadata": {
  "kernelspec": {
   "display_name": "Python 3",
   "language": "python",
   "name": "python3"
  },
  "language_info": {
   "codemirror_mode": {
    "name": "ipython",
    "version": 3
   },
   "file_extension": ".py",
   "mimetype": "text/x-python",
   "name": "python",
   "nbconvert_exporter": "python",
   "pygments_lexer": "ipython3",
   "version": "3.7.4"
  }
 },
 "nbformat": 4,
 "nbformat_minor": 2
}
