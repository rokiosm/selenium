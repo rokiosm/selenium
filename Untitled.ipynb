{
 "cells": [
  {
   "cell_type": "markdown",
   "metadata": {},
   "source": [
    "from selenium import webdriver\n",
    "from bs4 import BeautifulSoup\n",
    "from datetime import datetime\n",
    "import threading\n",
    "\n",
    "end = False\n",
    "\n",
    "driver = webdriver.Chrome('/Users/nusys/Downloads/chromedriver_mac64/chromedriver')\n",
    "driver.implicitly_wait(3)\n",
    "driver.get('https://datalab.naver.com/keyword/realtimeList.naver?where=main')\n",
    "html = driver.page_source\n",
    "soup = BeautifulSoup(html, 'html.parser')\n",
    "\n",
    "def crawling(second = 1.0):\n",
    "    global end\n",
    "    if end:\n",
    "        return\n",
    "    f = open('네이버검색어순위.md', 'a')\n",
    "    f.write(datetime.today().strftime('\\n'+\"______________\"+'\\n'+\"%Y/%m/%d %H:%M:%S\")+'\\n')\n",
    "    i = 1\n",
    "    for anchor in soup.select(\"span.item_title\"):\n",
    "        data = str(i) + \"위: \"+ anchor.get_text() + '\\n'\n",
    "        f.write(data)\n",
    "        i += 1\n",
    "    f.close()\n",
    "    threading.Timer(second, crawling, [second]).start()\n",
    "\n",
    "crawling(900)"
   ]
  },
  {
   "cell_type": "code",
   "execution_count": null,
   "metadata": {},
   "outputs": [],
   "source": []
  }
 ],
 "metadata": {
  "kernelspec": {
   "display_name": "Python 3",
   "language": "python",
   "name": "python3"
  },
  "language_info": {
   "codemirror_mode": {
    "name": "ipython",
    "version": 3
   },
   "file_extension": ".py",
   "mimetype": "text/x-python",
   "name": "python",
   "nbconvert_exporter": "python",
   "pygments_lexer": "ipython3",
   "version": "3.7.4"
  }
 },
 "nbformat": 4,
 "nbformat_minor": 2
}
