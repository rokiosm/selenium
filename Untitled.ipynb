{
 "cells": [
  {
   "cell_type": "markdown",
   "metadata": {},
   "source": [
    "## 셀레늄 코딩\n",
    "## =============\n",
    "from selenium import webdriver\n",
    "from bs4 import BeautifulSoup\n",
    "from datetime import datetime\n",
    "import threading\n",
    "\n",
    "end = False\n",
    "\n",
    "driver = webdriver.Chrome('/Users/nusys/Downloads/chromedriver_mac64/chromedriver')\n",
    "driver.implicitly_wait(3)\n",
    "driver.get('https://datalab.naver.com/keyword/realtimeList.naver?where=main')\n",
    "html = driver.page_source\n",
    "soup = BeautifulSoup(html, 'html.parser')\n",
    "\n",
    "def crawling(second = 1.0):\n",
    "    global end\n",
    "    if end:\n",
    "        return\n",
    "    f = open('네이버검색어순위.md', 'a')\n",
    "    f.write(datetime.today().strftime('\\n'+\"______________\"+'\\n'+\"%Y/%m/%d %H:%M:%S\")+'\\n')\n",
    "    i = 1\n",
    "    for anchor in soup.select(\"span.item_title\"):\n",
    "        data = str(i) + \"위: \"+ anchor.get_text() + '\\n'\n",
    "        f.write(data)\n",
    "        i += 1\n",
    "    f.close()\n",
    "    threading.Timer(second, crawling, [second]).start()\n",
    "\n",
    "crawling(900)"
   ]
  },
  {
   "cell_type": "markdown",
   "metadata": {},
   "source": [
    "#  구글 크롤링2"
   ]
  },
  {
   "cell_type": "code",
   "execution_count": 7,
   "metadata": {},
   "outputs": [
    {
     "ename": "NameError",
     "evalue": "name 'target' is not defined",
     "output_type": "error",
     "traceback": [
      "\u001b[0;31m---------------------------------------------------------------------------\u001b[0m",
      "\u001b[0;31mNameError\u001b[0m                                 Traceback (most recent call last)",
      "\u001b[0;32m<ipython-input-7-258084f29dbf>\u001b[0m in \u001b[0;36m<module>\u001b[0;34m\u001b[0m\n\u001b[1;32m      6\u001b[0m \u001b[0;34m\u001b[0m\u001b[0m\n\u001b[1;32m      7\u001b[0m values = { \n\u001b[0;32m----> 8\u001b[0;31m     \u001b[0;34m'q'\u001b[0m\u001b[0;34m:\u001b[0m \u001b[0mtarget\u001b[0m\u001b[0;34m,\u001b[0m\u001b[0;34m\u001b[0m\u001b[0;34m\u001b[0m\u001b[0m\n\u001b[0m\u001b[1;32m      9\u001b[0m     \u001b[0;34m'oq'\u001b[0m\u001b[0;34m:\u001b[0m \u001b[0mtarget\u001b[0m\u001b[0;34m,\u001b[0m\u001b[0;34m\u001b[0m\u001b[0;34m\u001b[0m\u001b[0m\n\u001b[1;32m     10\u001b[0m     \u001b[0;34m'aqs'\u001b[0m\u001b[0;34m:\u001b[0m \u001b[0;34m'chrome..69i57.35694j0j7'\u001b[0m\u001b[0;34m,\u001b[0m\u001b[0;34m\u001b[0m\u001b[0;34m\u001b[0m\u001b[0m\n",
      "\u001b[0;31mNameError\u001b[0m: name 'target' is not defined"
     ]
    }
   ],
   "source": [
    "from bs4 import BeautifulSoup as BS\n",
    "import ssl, urllib \n",
    "import traceback\n",
    "\n",
    "base_url = 'https://www.google.co.kr/search'\n",
    "\n",
    "values = { \n",
    "    'q': target, \n",
    "    'oq': target, \n",
    "    'aqs': 'chrome..69i57.35694j0j7',\n",
    "    'sourceid': 'chrome', 'ie': 'UTF-8', } \n",
    "\n",
    "hdr = {'User-Agent': 'Mozilla/5.0'}\n",
    "\n",
    "query_string = urllib.parse.urlencode(values)\n",
    "req = urllib.request.Request(base_url + '?' + query_string, headers=hdr)\n",
    "\n",
    "context = ssl._create_unverified_context() \n",
    "try: \n",
    "    res = urllib.request.urlopen(req, context=context)\n",
    "except: \n",
    "    traceback.print_exc() \n",
    "    \n",
    "html_data = BS(res.read(), 'html.parser')"
   ]
  },
  {
   "cell_type": "code",
   "execution_count": null,
   "metadata": {},
   "outputs": [],
   "source": []
  }
 ],
 "metadata": {
  "kernelspec": {
   "display_name": "Python 3",
   "language": "python",
   "name": "python3"
  },
  "language_info": {
   "codemirror_mode": {
    "name": "ipython",
    "version": 3
   },
   "file_extension": ".py",
   "mimetype": "text/x-python",
   "name": "python",
   "nbconvert_exporter": "python",
   "pygments_lexer": "ipython3",
   "version": "3.7.4"
  }
 },
 "nbformat": 4,
 "nbformat_minor": 2
}
